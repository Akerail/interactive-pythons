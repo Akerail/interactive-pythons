{
 "cells": [
  {
   "cell_type": "code",
   "execution_count": 1,
   "metadata": {
    "collapsed": false,
    "deletable": true,
    "editable": true,
    "scrolled": true
   },
   "outputs": [
    {
     "name": "stdout",
     "output_type": "stream",
     "text": [
      "a = 0.1\n"
     ]
    },
    {
     "data": {
      "image/png": "[encoded data removed]",
      "text/plain": [
       "<matplotlib.figure.Figure at 0x6b79f60>"
      ]
     },
     "metadata": {},
     "output_type": "display_data"
    },
    {
     "name": "stdout",
     "output_type": "stream",
     "text": [
      "NUMPY time 0.5676776995021426 seconds\n"
     ]
    }
   ],
   "source": [
    "#EXPLICIT VERSION\n",
    "import numpy as np\n",
    "import time\n",
    "import matplotlib.pyplot as plt\n",
    "%matplotlib inline\n",
    "\n",
    "ti=time.clock()\n",
    "\n",
    "x0 = np.zeros(101)\n",
    "x0[50] = 100\n",
    "xn = np.zeros(101)\n",
    "un = np.arange(101)\n",
    "\n",
    "\n",
    "L=100\n",
    "dx=1\n",
    "Nt=1000\n",
    "dt=0.01\n",
    "D=10\n",
    "\n",
    "a=(D*dt/dx/dx)\n",
    "\n",
    "print(\"a =\",a)\n",
    "\n",
    "for t in range (1,Nt):\n",
    "    for i in range (1,L):\n",
    "        xn[i] = x0[i] + a*(x0[i-1] + x0[i+1] - 2*x0[i])\n",
    "        xn[0]=0\n",
    "        xn[L]=0\n",
    "        x0[i]=xn[i]\n",
    "                \n",
    "plt.figure(figsize=(5,3))\n",
    "plt.plot(un,xn)\n",
    "plt.xlabel('time [s]')\n",
    "plt.ylabel('Temperature [T]')\n",
    "#plt.axis([0,100,0,1])\n",
    "#plt.axis().set_aspect('equal', 'datal.im')\n",
    "plt.show()\n",
    "\n",
    "print('NUMPY time', time.clock()-ti, 'seconds')"
   ]
  },
  {
   "cell_type": "code",
   "execution_count": 2,
   "metadata": {
    "collapsed": false,
    "deletable": true,
    "editable": true,
    "scrolled": false
   },
   "outputs": [
    {
     "name": "stdout",
     "output_type": "stream",
     "text": [
      "[[ 1.2 -0.1  0.  ...,  0.   0.   0. ]\n",
      " [-0.1  1.2 -0.1 ...,  0.   0.   0. ]\n",
      " [ 0.  -0.1  1.2 ...,  0.   0.   0. ]\n",
      " ..., \n",
      " [ 0.   0.   0.  ...,  1.2 -0.1  0. ]\n",
      " [ 0.   0.   0.  ..., -0.1  1.2 -0.1]\n",
      " [ 0.   0.   0.  ...,  0.  -0.1  1.2]]\n",
      "a = 0.1\n"
     ]
    },
    {
     "data": {
      "image/png": "[encoded data removed]",
      "text/plain": [
       "<matplotlib.figure.Figure at 0x4c59a90>"
      ]
     },
     "metadata": {},
     "output_type": "display_data"
    },
    {
     "name": "stdout",
     "output_type": "stream",
     "text": [
      "NUMPY time 6.274365477023985 seconds\n"
     ]
    }
   ],
   "source": [
    "#IMPLICIT VERSION\n",
    "#building the matrix\n",
    "\n",
    "m=101      #size of matrix\n",
    "A = np.zeros((m, m))\n",
    "\n",
    "A[0,0] = 1+2*a\n",
    "A[0,1] = -a\n",
    "\n",
    "for i in range (1,m-1):\n",
    "    A[i,i+1]=A[0,1]\n",
    "    A[i,i-1]=A[0,1]\n",
    "    A[i,i]  =A[0,0]\n",
    "    \n",
    "A[m-1,m-1] = A[0,0]\n",
    "A[m-1,m-2] = A[0,1]\n",
    "\n",
    "print(A)\n",
    "\n",
    "#building the vector x0 under the same settings as in explicit case\n",
    "\n",
    "x0 = np.zeros((m, 1))\n",
    "x0[50,0] = 100\n",
    "xn = np.zeros((m, 1))\n",
    "\n",
    "print(\"a =\",a)\n",
    "\n",
    "for t in range (1,Nt):\n",
    "    x1 = np.linalg.solve(A, x0)   #solving the matrix equation Ax(t+dt)=x(t)\n",
    "    for i in range (1,L):\n",
    "        xn[i,0] = x1[i,0] + a*(x1[i-1,0] + x1[i+1,0] - 2*x1[i,0])\n",
    "        xn[0,0]=0   #boundary 1\n",
    "        xn[L,0]=0   #boundary 2\n",
    "        x0[i,0]=xn[i,0]\n",
    "  \n",
    "un = np.zeros((m,1))\n",
    "for k in range (1,101):\n",
    "    un[k,0] = k\n",
    "    \n",
    "plt.figure(figsize=(5,3))\n",
    "plt.plot(un,xn)\n",
    "plt.xlabel('time [s]')\n",
    "plt.ylabel('Temperature [T]')\n",
    "#plt.axis([0,100,0,1])\n",
    "#plt.axis().set_aspect('equal', 'datal.im')\n",
    "plt.show()\n",
    "\n",
    "print('NUMPY time', time.clock()-ti, 'seconds')"
   ]
  },
  {
   "cell_type": "code",
   "execution_count": null,
   "metadata": {
    "collapsed": true,
    "deletable": true,
    "editable": true
   },
   "outputs": [],
   "source": []
  }
 ],
 "metadata": {
  "anaconda-cloud": {},
  "kernelspec": {
   "display_name": "Python 3",
   "language": "python",
   "name": "python3"
  },
  "language_info": {
   "codemirror_mode": {
    "name": "ipython",
    "version": 3
   },
   "file_extension": ".py",
   "mimetype": "text/x-python",
   "name": "python",
   "nbconvert_exporter": "python",
   "pygments_lexer": "ipython3",
   "version": "3.5.2"
  }
 },
 "nbformat": 4,
 "nbformat_minor": 0
}
