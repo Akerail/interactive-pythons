{
 "cells": [
  {
   "cell_type": "code",
   "execution_count": 4,
   "metadata": {
    "collapsed": true
   },
   "outputs": [],
   "source": [
    "import numpy as np\n",
    "import matplotlib.pyplot as plt\n",
    "%matplotlib inline"
   ]
  },
  {
   "cell_type": "markdown",
   "metadata": {},
   "source": [
    "## Central limit theorem"
   ]
  },
  {
   "cell_type": "code",
   "execution_count": 5,
   "metadata": {
    "collapsed": false
   },
   "outputs": [],
   "source": [
    "trueExpected = 3.5\n",
    "trueStdev = np.sqrt(1/6*sum([(i-3.5)**2 for i in np.arange(1,7)]))"
   ]
  },
  {
   "cell_type": "code",
   "execution_count": 6,
   "metadata": {
    "collapsed": false
   },
   "outputs": [
    {
     "data": {
      "text/plain": [
       "1.707825127659933"
      ]
     },
     "execution_count": 6,
     "metadata": {},
     "output_type": "execute_result"
    }
   ],
   "source": [
    "trueStdev"
   ]
  },
  {
   "cell_type": "code",
   "execution_count": 7,
   "metadata": {
    "collapsed": false
   },
   "outputs": [],
   "source": [
    "# Roll several dice and get their sum\n",
    "def roll(nDice):\n",
    "    dice = np.random.choice(np.arange(1,7),nDice)\n",
    "    return sum(dice)"
   ]
  },
  {
   "cell_type": "code",
   "execution_count": 8,
   "metadata": {
    "collapsed": false
   },
   "outputs": [
    {
     "data": {
      "text/plain": [
       "[3, 10, 10, 5, 4, 8, 9, 2, 7, 8]"
      ]
     },
     "execution_count": 8,
     "metadata": {},
     "output_type": "execute_result"
    }
   ],
   "source": [
    "# For example\n",
    "[roll(2) for i in range(10)]"
   ]
  },
  {
   "cell_type": "code",
   "execution_count": 24,
   "metadata": {
    "collapsed": false
   },
   "outputs": [],
   "source": [
    "# Create a large data set\n",
    "nDice = 6\n",
    "data1 = np.array([roll(nDice) for i in range(15000)])"
   ]
  },
  {
   "cell_type": "code",
   "execution_count": 25,
   "metadata": {
    "collapsed": false
   },
   "outputs": [
    {
     "data": {
      "image/png": "[encoded data removed]",
      "text/plain": [
       "<matplotlib.figure.Figure at 0x1139d4da0>"
      ]
     },
     "metadata": {},
     "output_type": "display_data"
    }
   ],
   "source": [
    "# Plot a histogram\n",
    "n, bins, patches = plt.hist(data1, bins=np.arange(nDice-0.5,nDice*6+1.5,1), normed=1, facecolor='green', alpha=0.75)\n",
    "\n",
    "# Normal distr (at discrete points)\n",
    "xxx = bins\n",
    "yyy = [1/np.sqrt(2*np.pi*nDice*trueStdev**2)*np.exp(-0.5*(x-nDice*3.5)**2/nDice/trueStdev**2) for x in xxx]\n",
    "plt.plot(xxx,yyy,'b-')\n",
    "\n",
    "plt.xlabel('Total dots'); plt.ylabel('Fraction of occurences')\n",
    "plt.title('Histogram of '+str(nDice)+' dice rolls')\n",
    "plt.show()"
   ]
  }
 ],
 "metadata": {
  "anaconda-cloud": {},
  "kernelspec": {
   "display_name": "Python [Root]",
   "language": "python",
   "name": "Python [Root]"
  },
  "language_info": {
   "codemirror_mode": {
    "name": "ipython",
    "version": 3
   },
   "file_extension": ".py",
   "mimetype": "text/x-python",
   "name": "python",
   "nbconvert_exporter": "python",
   "pygments_lexer": "ipython3",
   "version": "3.5.2"
  }
 },
 "nbformat": 4,
 "nbformat_minor": 0
}
