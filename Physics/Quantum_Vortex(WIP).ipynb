{
 "cells": [
  {
   "cell_type": "code",
   "execution_count": null,
   "metadata": {
    "collapsed": true
   },
   "outputs": [],
   "source": [
    "import numpy as np\n",
    "from numpy.linalg import inv\n",
    "import time\n",
    "import scipy as sc\n",
    "import matplotlib.pyplot as plt\n",
    "import cmath as cm\n",
    "%matplotlib inline\n",
    "\n",
    "ti=time.clock()"
   ]
  },
  {
   "cell_type": "markdown",
   "metadata": {},
   "source": [
    "## Constants and parameters"
   ]
  },
  {
   "cell_type": "code",
   "execution_count": null,
   "metadata": {
    "collapsed": true
   },
   "outputs": [],
   "source": [
    "T = 0           #temperature\n",
    "Γ = 100         #circulation scaled by 10**9\n",
    "\n",
    "N=100"
   ]
  },
  {
   "cell_type": "markdown",
   "metadata": {},
   "source": [
    "## Functions & Equations"
   ]
  },
  {
   "cell_type": "code",
   "execution_count": null,
   "metadata": {
    "collapsed": true
   },
   "outputs": [],
   "source": [
    "# INITIAL VORTEX LINE PARAMETRIZATION\n",
    "\n",
    "#all distances in Angstroms\n",
    "\n",
    "R = 3                #ring radius\n",
    "X0 = Y0 = Z0 = 5     #ring center coordinates\n",
    "r = np.array([X0,Y0,Z0,0,0])\n",
    "\n",
    "\n",
    "#INITIAL POSTIONS\n",
    "\n",
    "s0 = np.zeros([N,5])\n",
    "ϕ = 2*np.pi/N        #infinitesimal angle\n",
    "for i in range (1,N-1):\n",
    "    s0[i,:] = r + [0,R*np.sin(i*ϕ),R*np.cos(i*ϕ), i-1, i+1]\n",
    "s0[0,:] = r + [0,R*np.sin(0),R*np.cos(0), N-1, 1]\n",
    "s0[N-1,:] = r + [0,R*np.sin((N-1)*ϕ),R*np.cos((N-1)*ϕ), N-2, 0]\n",
    "# this will be much complicated due to the searching for neighbours = shortest path from i to j.\n",
    "\n",
    "pos = s0[:,0:3]\n",
    "next = s0[:,4]\n",
    "\n",
    "\n",
    "# FINITE DIFFERENCE CALCULATOR\n",
    "\n",
    "def der(s, atom, order, area):\n",
    "    \n",
    "    d = (area-1)/2 #points on one side from the center one\n",
    "    \n",
    "    M = np.zeros([area,area])\n",
    "    koef = np.zeros([area])\n",
    "    vector = np.zeros([area])\n",
    "    \n",
    "    for j in range (0,area):\n",
    "        \n",
    "        neigh = atom + (j-d)\n",
    "        if neigh<0:\n",
    "            neigh = N + neigh\n",
    "        if neigh>(N-1):\n",
    "            neigh = neigh - N\n",
    "        \n",
    "        h = np.linalg.norm(pos[atom] - pos[neigh])\n",
    "        \n",
    "        for i in range (0,area):\n",
    "            M[i,j] = (-h)**i\n",
    "    \n",
    "    vector[order] = np.math.factorial(order)\n",
    "    \n",
    "    invM = np.linalg.solve(M, np.eye(area))\n",
    "    print(M)\n",
    "    print(np.linalg.det(M))\n",
    "    print(invM)\n",
    "    print(np.dot(M,invM))\n",
    "    koef = np.dot(invM,vector)\n",
    "    \n",
    "    return koef\n",
    "\n",
    "\n",
    "\n",
    "def s_der(s, atom, area):\n",
    "    order = 1\n",
    "    \n",
    "    s_der = np.zeros([3])\n",
    "    koef = der(s, atom, order, area)\n",
    "    print(koef)\n",
    "    d = (area-1)/2 #points on one side from the center one\n",
    "    \n",
    "    for i in range (0,area):\n",
    "        neigh = atom+(i-d)\n",
    "        \n",
    "        if neigh<0:\n",
    "            neigh = N + neigh\n",
    "        if neigh>(N-1):\n",
    "            neigh = neigh - N\n",
    "            \n",
    "        s_der += koef[i]*pos[neigh,0:3]\n",
    "        \n",
    "    return s_der\n",
    "    \n",
    "    \n",
    "\n",
    "# LIA velocity in nm/s\n",
    "\n",
    "def v_lia(s):\n",
    "    \n",
    "    v_lia = np.zeros((N,3))\n",
    "    a = 1\n",
    "    \n",
    "    for i in range (0,N):\n",
    "        r = 1/np.linalg.norm(s_der2(s)[i,:])\n",
    "        β = (Γ*np.log(r/a))/(4*np.pi)\n",
    "        v_lia[i,:] = β*np.cross(s_der(s)[i,:], s_der2(s)[i,:])\n",
    "        \n",
    "    return v_lia\n",
    "    \n",
    "    \n",
    "\n",
    "# Biot-Savart for velocity field\n",
    "\n",
    "def vel_i(r,s):\n",
    "    vel_i = np.zeros(3)\n",
    "    vel_i = Γ/(4*π) #*Biotsavart integral\n",
    "    return vel_i\n"
   ]
  },
  {
   "cell_type": "markdown",
   "metadata": {},
   "source": [
    "## Arrays"
   ]
  },
  {
   "cell_type": "code",
   "execution_count": null,
   "metadata": {},
   "outputs": [],
   "source": [
    "der(s0, 1, 1, 3)"
   ]
  },
  {
   "cell_type": "code",
   "execution_count": null,
   "metadata": {},
   "outputs": [],
   "source": [
    "np.linalg.norm(pos[2], pos[3])"
   ]
  },
  {
   "cell_type": "markdown",
   "metadata": {},
   "source": [
    "## Playground"
   ]
  },
  {
   "cell_type": "code",
   "execution_count": null,
   "metadata": {},
   "outputs": [],
   "source": [
    "np.eye(5)"
   ]
  },
  {
   "cell_type": "markdown",
   "metadata": {
    "collapsed": true
   },
   "source": [
    "## GARBAGE"
   ]
  },
  {
   "cell_type": "code",
   "execution_count": null,
   "metadata": {
    "collapsed": true
   },
   "outputs": [],
   "source": [
    "# DERIVATIVES\n",
    "\n",
    "def s_der(s):\n",
    "    s_der = np.zeros([N,3])\n",
    "    \n",
    "    s_der[0,:] = (pos[1,:] - pos[N-1,:])/(ϕ*R)\n",
    "    \n",
    "    for i in range (1,N-1):\n",
    "        s_der[i,:] = (pos[i+1,:] - pos[i-1,:])/(ϕ*R)\n",
    "    \n",
    "    s_der[N-1,:] = (pos[0,:] - pos[N-2,:])/(ϕ*R)\n",
    "    \n",
    "    return s_der\n",
    "    #this is only simple version for ring\n",
    "    \n",
    "# SECOND DERIVATIVES\n",
    "\n",
    "def s_der2(s):\n",
    "    s_der2 = np.zeros([N,3])\n",
    "    \n",
    "    s_der2[0,:] = (pos[2,:] - 2*pos[0,:] + pos[N-2,:])/(ϕ*R)**2\n",
    "    s_der2[1,:] = (pos[3,:] - 2*pos[1,:] + pos[N-1,:])/(ϕ*R)**2\n",
    "    \n",
    "    for i in range (2,N-2):\n",
    "        s_der2[i,:] = (pos[i+2,:] - 2*pos[i,:] + pos[i-2,:])/(ϕ*R)**2\n",
    "    \n",
    "    s_der2[N-1,:] = (pos[1,:] - 2*pos[N-1,:] + pos[N-3,:])/(ϕ*R)**2\n",
    "    s_der2[N-2,:] = (pos[0,:] - 2*pos[N-2,:] + pos[N-4,:])/(ϕ*R)**2\n",
    "    \n",
    "    eps = 10e-5\n",
    "    \n",
    "    for i in range (0,N):\n",
    "        for j in range (0,3):\n",
    "            if np.absolute(s_der2[i,j]) < eps:\n",
    "                s_der2[i,j] = 0\n",
    "    \n",
    "    return s_der2\n",
    "\n",
    "#ARCLENGTH\n",
    "\n",
    "def ξ(s):\n",
    "    ξ = np.zeros([N])\n",
    "    ξ[0] = 0\n",
    "    for i in range(1,N):\n",
    "        ξ[i] = ξ[i-1] + np.linalg.norm(next[np.where(next==i)] - next[np.where(next==(i-1))])\n",
    "    \n",
    "    return ξ\n"
   ]
  }
 ],
 "metadata": {
  "anaconda-cloud": {},
  "kernelspec": {
   "display_name": "Python 3",
   "language": "python",
   "name": "python3"
  },
  "language_info": {
   "codemirror_mode": {
    "name": "ipython",
    "version": 3
   },
   "file_extension": ".py",
   "mimetype": "text/x-python",
   "name": "python",
   "nbconvert_exporter": "python",
   "pygments_lexer": "ipython3",
   "version": "3.6.2"
  }
 },
 "nbformat": 4,
 "nbformat_minor": 1
}
