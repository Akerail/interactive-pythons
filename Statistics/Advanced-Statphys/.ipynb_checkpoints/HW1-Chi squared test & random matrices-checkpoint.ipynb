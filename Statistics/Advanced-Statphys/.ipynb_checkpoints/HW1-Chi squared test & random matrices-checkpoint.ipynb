{
 "cells": [
  {
   "cell_type": "markdown",
   "metadata": {},
   "source": [
    "## Chi-squared tests on randomly generated drugs data"
   ]
  },
  {
   "cell_type": "code",
   "execution_count": 36,
   "metadata": {
    "collapsed": true
   },
   "outputs": [],
   "source": [
    "from scipy.stats import chisquare\n",
    "from numpy.random import choice\n",
    "import numpy as np\n",
    "\n",
    "def generate_data(N):\n",
    "    \n",
    "    # random data: healed or not with particular drug\n",
    "    data_drug1 = choice([1,0], size=int(N/2), p=[p_drug1, 1-p_drug1])\n",
    "    data_drug2 = choice([1,0], size=int(N/2), p=[p_drug2, 1-p_drug2])\n",
    "\n",
    "    healed1 = sum(data_drug1)\n",
    "    not_healed1 = N/2 - healed1\n",
    "    healed2 = sum(data_drug2)\n",
    "    not_healed2 = N/2 - healed2\n",
    "\n",
    "    # observed data:\n",
    "    O = np.array([healed1, not_healed1, healed2, not_healed2])\n",
    "    # probabilities:\n",
    "    P = O / N\n",
    "    # row and col sums:\n",
    "    P1r = P[0] + P[1]\n",
    "    P2r = P[2] + P[3]\n",
    "    P1c = P[0] + P[2]\n",
    "    P2c = P[1] + P[3]\n",
    "    # expected data:\n",
    "    E = N * np.array([P1r*P1c, P1r*P2c, P2r*P1c, P2r*P2c])\n",
    "\n",
    "    return O,E"
   ]
  },
  {
   "cell_type": "code",
   "execution_count": 84,
   "metadata": {},
   "outputs": [
    {
     "name": "stdout",
     "output_type": "stream",
     "text": [
      "10.8271022255 0.0126984980739\n"
     ]
    }
   ],
   "source": [
    "# probabilities of drugs to work\n",
    "p_drug1 = 0.63 # global\n",
    "p_drug2 = 0.68 # global\n",
    "\n",
    "# observers\n",
    "N = 2000\n",
    "\n",
    "\n",
    "# xi-squared statistics and p-value\n",
    "xi, pval= chisquare(f_obs=O, f_exp=E)\n",
    "print(xi,pval)"
   ]
  },
  {
   "cell_type": "code",
   "execution_count": 89,
   "metadata": {},
   "outputs": [
    {
     "data": {
      "text/plain": [
       "array([1, 0, 0, 0, 0, 1, 1, 0, 1, 0])"
      ]
     },
     "execution_count": 89,
     "metadata": {},
     "output_type": "execute_result"
    }
   ],
   "source": []
  },
  {
   "cell_type": "code",
   "execution_count": 11,
   "metadata": {},
   "outputs": [
    {
     "data": {
      "text/plain": [
       "500"
      ]
     },
     "execution_count": 11,
     "metadata": {},
     "output_type": "execute_result"
    }
   ],
   "source": [
    "int(N/2)"
   ]
  },
  {
   "cell_type": "code",
   "execution_count": null,
   "metadata": {
    "collapsed": true
   },
   "outputs": [],
   "source": []
  }
 ],
 "metadata": {
  "kernelspec": {
   "display_name": "Python 3",
   "language": "python",
   "name": "python3"
  },
  "language_info": {
   "codemirror_mode": {
    "name": "ipython",
    "version": 3
   },
   "file_extension": ".py",
   "mimetype": "text/x-python",
   "name": "python",
   "nbconvert_exporter": "python",
   "pygments_lexer": "ipython3",
   "version": "3.6.2"
  }
 },
 "nbformat": 4,
 "nbformat_minor": 2
}
